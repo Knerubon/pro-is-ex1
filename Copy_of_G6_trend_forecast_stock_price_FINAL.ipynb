{
  "nbformat": 4,
  "nbformat_minor": 0,
  "metadata": {
    "colab": {
      "provenance": [],
      "include_colab_link": true
    },
    "kernelspec": {
      "display_name": "Python 3",
      "language": "python",
      "name": "python3"
    },
    "language_info": {
      "codemirror_mode": {
        "name": "ipython",
        "version": 3
      },
      "file_extension": ".py",
      "mimetype": "text/x-python",
      "name": "python",
      "nbconvert_exporter": "python",
      "pygments_lexer": "ipython3",
      "version": "3.7.6"
    }
  },
  "cells": [
    {
      "cell_type": "markdown",
      "metadata": {
        "id": "view-in-github",
        "colab_type": "text"
      },
      "source": [
        "<a href=\"https://colab.research.google.com/github/Knerubon/pro-is-ex1/blob/main/Copy_of_G6_trend_forecast_stock_price_FINAL.ipynb\" target=\"_parent\"><img src=\"https://colab.research.google.com/assets/colab-badge.svg\" alt=\"Open In Colab\"/></a>"
      ]
    },
    {
      "cell_type": "code",
      "metadata": {
        "id": "jNDSVy_PdVNC",
        "colab": {
          "base_uri": "https://localhost:8080/"
        },
        "outputId": "206c85d5-af0d-4bc5-bd0f-6dcd097b1ca9"
      },
      "source": [
        "# Import necessary packages\n",
        "import pandas as pd\n",
        "import matplotlib.pyplot as plt\n",
        "\n",
        "# Set plot format\n",
        "%matplotlib inline\n",
        "%config InlineBackend.figure_format = 'svg'\n",
        "\n",
        "# Set float format for Pandas display\n",
        "pd.options.display.float_format = '{:,.2f}'.format\n",
        "\n",
        "# Install missing package if needed\n",
        "!pip install --upgrade starfishX\n",
        "!pip install mplfinance\n",
        "# Import the installed package\n",
        "import starfishX as sx"
      ],
      "execution_count": null,
      "outputs": [
        {
          "output_type": "stream",
          "name": "stdout",
          "text": [
            "Looking in indexes: https://pypi.org/simple, https://us-python.pkg.dev/colab-wheels/public/simple/\n",
            "Requirement already satisfied: starfishX in /usr/local/lib/python3.9/dist-packages (0.155536)\n",
            "Collecting starfishX\n",
            "  Using cached starfishX-0.155555-py3-none-any.whl (119 kB)\n",
            "Requirement already satisfied: pyqt5 in /usr/local/lib/python3.9/dist-packages (from starfishX) (5.15.9)\n",
            "Requirement already satisfied: scipy in /usr/local/lib/python3.9/dist-packages (from starfishX) (1.10.1)\n",
            "Requirement already satisfied: html5lib in /usr/local/lib/python3.9/dist-packages (from starfishX) (1.0.1)\n",
            "Requirement already satisfied: sklearn in /usr/local/lib/python3.9/dist-packages (from starfishX) (0.0.post1)\n",
            "Collecting mplfinance\n",
            "  Using cached mplfinance-0.12.9b7-py3-none-any.whl (73 kB)\n",
            "Requirement already satisfied: requests in /usr/local/lib/python3.9/dist-packages (from starfishX) (2.25.1)\n",
            "Collecting starfishX\n",
            "  Using cached starfishX-0.155554-py3-none-any.whl (119 kB)\n",
            "  Using cached starfishX-0.155553-py3-none-any.whl (119 kB)\n",
            "  Using cached starfishX-0.155552-py3-none-any.whl (119 kB)\n",
            "  Using cached starfishX-0.155551-py3-none-any.whl (118 kB)\n",
            "  Using cached starfishX-0.155550-py3-none-any.whl (118 kB)\n",
            "  Using cached starfishX-0.155549-py3-none-any.whl (118 kB)\n",
            "  Using cached starfishX-0.155547-py3-none-any.whl (117 kB)\n",
            "  Using cached starfishX-0.155546-py3-none-any.whl (117 kB)\n",
            "  Using cached starfishX-0.155545-py3-none-any.whl (117 kB)\n",
            "  Using cached starfishX-0.155544-py3-none-any.whl (117 kB)\n",
            "  Using cached starfishX-0.155543-py3-none-any.whl (117 kB)\n",
            "  Using cached starfishX-0.155542-py3-none-any.whl (117 kB)\n",
            "  Using cached starfishX-0.155541-py3-none-any.whl (114 kB)\n",
            "  Using cached starfishX-0.155540-py3-none-any.whl (114 kB)\n",
            "  Using cached starfishX-0.155538-py3-none-any.whl (115 kB)\n",
            "  Using cached starfishX-0.155537-py3-none-any.whl (113 kB)\n",
            "Requirement already satisfied: selenium in /usr/local/lib/python3.9/dist-packages (from starfishX) (4.8.2)\n",
            "Requirement already satisfied: beautifulsoup4 in /usr/local/lib/python3.9/dist-packages (from starfishX) (4.9.3)\n",
            "Requirement already satisfied: pythainlp in /usr/local/lib/python3.9/dist-packages (from starfishX) (3.1.1)\n",
            "Requirement already satisfied: urllib3 in /usr/local/lib/python3.9/dist-packages (from starfishX) (1.26.15)\n",
            "Requirement already satisfied: squarify in /usr/local/lib/python3.9/dist-packages (from starfishX) (0.4.3)\n",
            "Requirement already satisfied: pandas in /usr/local/lib/python3.9/dist-packages (from starfishX) (1.4.4)\n",
            "Requirement already satisfied: seaborn in /usr/local/lib/python3.9/dist-packages (from starfishX) (0.12.2)\n",
            "Requirement already satisfied: ffn in /usr/local/lib/python3.9/dist-packages (from starfishX) (0.3.6)\n",
            "Requirement already satisfied: tqdm in /usr/local/lib/python3.9/dist-packages (from starfishX) (4.65.0)\n",
            "Requirement already satisfied: soupsieve>1.2 in /usr/local/lib/python3.9/dist-packages (from beautifulsoup4->starfishX) (2.4)\n",
            "Requirement already satisfied: decorator>=4 in /usr/local/lib/python3.9/dist-packages (from ffn->starfishX) (4.4.2)\n",
            "Requirement already satisfied: matplotlib>=1 in /usr/local/lib/python3.9/dist-packages (from ffn->starfishX) (3.7.1)\n",
            "Requirement already satisfied: future>=0.15 in /usr/local/lib/python3.9/dist-packages (from ffn->starfishX) (0.16.0)\n",
            "Requirement already satisfied: numpy>=1.5 in /usr/local/lib/python3.9/dist-packages (from ffn->starfishX) (1.22.4)\n",
            "Requirement already satisfied: tabulate>=0.7.5 in /usr/local/lib/python3.9/dist-packages (from ffn->starfishX) (0.8.10)\n",
            "Requirement already satisfied: pandas-datareader>=0.2 in /usr/local/lib/python3.9/dist-packages (from ffn->starfishX) (0.10.0)\n",
            "Requirement already satisfied: scikit-learn>=0.15 in /usr/local/lib/python3.9/dist-packages (from ffn->starfishX) (1.2.2)\n",
            "Requirement already satisfied: pytz>=2020.1 in /usr/local/lib/python3.9/dist-packages (from pandas->starfishX) (2022.7.1)\n",
            "Requirement already satisfied: python-dateutil>=2.8.1 in /usr/local/lib/python3.9/dist-packages (from pandas->starfishX) (2.8.2)\n",
            "Requirement already satisfied: webencodings in /usr/local/lib/python3.9/dist-packages (from html5lib->starfishX) (0.5.1)\n",
            "Requirement already satisfied: six>=1.9 in /usr/local/lib/python3.9/dist-packages (from html5lib->starfishX) (1.15.0)\n",
            "Requirement already satisfied: PyQt5-sip<13,>=12.11 in /usr/local/lib/python3.9/dist-packages (from pyqt5->starfishX) (12.11.1)\n",
            "Requirement already satisfied: PyQt5-Qt5>=5.15.2 in /usr/local/lib/python3.9/dist-packages (from pyqt5->starfishX) (5.15.2)\n",
            "Requirement already satisfied: chardet<5,>=3.0.2 in /usr/local/lib/python3.9/dist-packages (from requests->starfishX) (4.0.0)\n",
            "Requirement already satisfied: idna<3,>=2.5 in /usr/local/lib/python3.9/dist-packages (from requests->starfishX) (2.10)\n",
            "Requirement already satisfied: certifi>=2017.4.17 in /usr/local/lib/python3.9/dist-packages (from requests->starfishX) (2022.12.7)\n",
            "Requirement already satisfied: trio~=0.17 in /usr/local/lib/python3.9/dist-packages (from selenium->starfishX) (0.22.0)\n",
            "Requirement already satisfied: trio-websocket~=0.9 in /usr/local/lib/python3.9/dist-packages (from selenium->starfishX) (0.10.0)\n",
            "Requirement already satisfied: cycler>=0.10 in /usr/local/lib/python3.9/dist-packages (from matplotlib>=1->ffn->starfishX) (0.11.0)\n",
            "Requirement already satisfied: fonttools>=4.22.0 in /usr/local/lib/python3.9/dist-packages (from matplotlib>=1->ffn->starfishX) (4.39.0)\n",
            "Requirement already satisfied: pyparsing>=2.3.1 in /usr/local/lib/python3.9/dist-packages (from matplotlib>=1->ffn->starfishX) (3.0.9)\n",
            "Requirement already satisfied: importlib-resources>=3.2.0 in /usr/local/lib/python3.9/dist-packages (from matplotlib>=1->ffn->starfishX) (5.12.0)\n",
            "Requirement already satisfied: kiwisolver>=1.0.1 in /usr/local/lib/python3.9/dist-packages (from matplotlib>=1->ffn->starfishX) (1.4.4)\n",
            "Requirement already satisfied: contourpy>=1.0.1 in /usr/local/lib/python3.9/dist-packages (from matplotlib>=1->ffn->starfishX) (1.0.7)\n",
            "Requirement already satisfied: packaging>=20.0 in /usr/local/lib/python3.9/dist-packages (from matplotlib>=1->ffn->starfishX) (23.0)\n",
            "Requirement already satisfied: pillow>=6.2.0 in /usr/local/lib/python3.9/dist-packages (from matplotlib>=1->ffn->starfishX) (8.4.0)\n",
            "Requirement already satisfied: lxml in /usr/local/lib/python3.9/dist-packages (from pandas-datareader>=0.2->ffn->starfishX) (4.9.2)\n",
            "Requirement already satisfied: joblib>=1.1.1 in /usr/local/lib/python3.9/dist-packages (from scikit-learn>=0.15->ffn->starfishX) (1.1.1)\n",
            "Requirement already satisfied: threadpoolctl>=2.0.0 in /usr/local/lib/python3.9/dist-packages (from scikit-learn>=0.15->ffn->starfishX) (3.1.0)\n",
            "Requirement already satisfied: async-generator>=1.9 in /usr/local/lib/python3.9/dist-packages (from trio~=0.17->selenium->starfishX) (1.10)\n",
            "Requirement already satisfied: sniffio in /usr/local/lib/python3.9/dist-packages (from trio~=0.17->selenium->starfishX) (1.3.0)\n",
            "Requirement already satisfied: exceptiongroup>=1.0.0rc9 in /usr/local/lib/python3.9/dist-packages (from trio~=0.17->selenium->starfishX) (1.1.1)\n",
            "Requirement already satisfied: sortedcontainers in /usr/local/lib/python3.9/dist-packages (from trio~=0.17->selenium->starfishX) (2.4.0)\n",
            "Requirement already satisfied: attrs>=19.2.0 in /usr/local/lib/python3.9/dist-packages (from trio~=0.17->selenium->starfishX) (22.2.0)\n",
            "Requirement already satisfied: outcome in /usr/local/lib/python3.9/dist-packages (from trio~=0.17->selenium->starfishX) (1.2.0)\n",
            "Requirement already satisfied: wsproto>=0.14 in /usr/local/lib/python3.9/dist-packages (from trio-websocket~=0.9->selenium->starfishX) (1.2.0)\n",
            "Requirement already satisfied: PySocks!=1.5.7,<2.0,>=1.5.6 in /usr/local/lib/python3.9/dist-packages (from urllib3->starfishX) (1.7.1)\n",
            "Requirement already satisfied: zipp>=3.1.0 in /usr/local/lib/python3.9/dist-packages (from importlib-resources>=3.2.0->matplotlib>=1->ffn->starfishX) (3.15.0)\n",
            "Requirement already satisfied: h11<1,>=0.9.0 in /usr/local/lib/python3.9/dist-packages (from wsproto>=0.14->trio-websocket~=0.9->selenium->starfishX) (0.14.0)\n",
            "Looking in indexes: https://pypi.org/simple, https://us-python.pkg.dev/colab-wheels/public/simple/\n",
            "Collecting mplfinance\n",
            "  Using cached mplfinance-0.12.9b7-py3-none-any.whl (73 kB)\n",
            "Requirement already satisfied: matplotlib in /usr/local/lib/python3.9/dist-packages (from mplfinance) (3.7.1)\n",
            "Requirement already satisfied: pandas in /usr/local/lib/python3.9/dist-packages (from mplfinance) (1.4.4)\n",
            "Requirement already satisfied: importlib-resources>=3.2.0 in /usr/local/lib/python3.9/dist-packages (from matplotlib->mplfinance) (5.12.0)\n",
            "Requirement already satisfied: fonttools>=4.22.0 in /usr/local/lib/python3.9/dist-packages (from matplotlib->mplfinance) (4.39.0)\n",
            "Requirement already satisfied: numpy>=1.20 in /usr/local/lib/python3.9/dist-packages (from matplotlib->mplfinance) (1.22.4)\n",
            "Requirement already satisfied: pyparsing>=2.3.1 in /usr/local/lib/python3.9/dist-packages (from matplotlib->mplfinance) (3.0.9)\n",
            "Requirement already satisfied: python-dateutil>=2.7 in /usr/local/lib/python3.9/dist-packages (from matplotlib->mplfinance) (2.8.2)\n",
            "Requirement already satisfied: kiwisolver>=1.0.1 in /usr/local/lib/python3.9/dist-packages (from matplotlib->mplfinance) (1.4.4)\n",
            "Requirement already satisfied: contourpy>=1.0.1 in /usr/local/lib/python3.9/dist-packages (from matplotlib->mplfinance) (1.0.7)\n",
            "Requirement already satisfied: packaging>=20.0 in /usr/local/lib/python3.9/dist-packages (from matplotlib->mplfinance) (23.0)\n",
            "Requirement already satisfied: pillow>=6.2.0 in /usr/local/lib/python3.9/dist-packages (from matplotlib->mplfinance) (8.4.0)\n",
            "Requirement already satisfied: cycler>=0.10 in /usr/local/lib/python3.9/dist-packages (from matplotlib->mplfinance) (0.11.0)\n",
            "Requirement already satisfied: pytz>=2020.1 in /usr/local/lib/python3.9/dist-packages (from pandas->mplfinance) (2022.7.1)\n",
            "Requirement already satisfied: zipp>=3.1.0 in /usr/local/lib/python3.9/dist-packages (from importlib-resources>=3.2.0->matplotlib->mplfinance) (3.15.0)\n",
            "Requirement already satisfied: six>=1.5 in /usr/local/lib/python3.9/dist-packages (from python-dateutil>=2.7->matplotlib->mplfinance) (1.15.0)\n",
            "Installing collected packages: mplfinance\n",
            "Successfully installed mplfinance-0.12.9b7\n"
          ]
        }
      ]
    },
    {
      "cell_type": "code",
      "metadata": {
        "colab": {
          "base_uri": "https://localhost:8080/"
        },
        "id": "r0wy0XH3mfMr",
        "outputId": "37e245ed-d1b9-4a13-d08e-582b869f690d"
      },
      "source": [
        "!pip install --user starfishX"
      ],
      "execution_count": null,
      "outputs": [
        {
          "output_type": "stream",
          "name": "stdout",
          "text": [
            "Looking in indexes: https://pypi.org/simple, https://us-python.pkg.dev/colab-wheels/public/simple/\n",
            "Requirement already satisfied: starfishX in /usr/local/lib/python3.9/dist-packages (0.155536)\n",
            "Requirement already satisfied: pandas in /usr/local/lib/python3.9/dist-packages (from starfishX) (1.4.4)\n",
            "Requirement already satisfied: squarify in /usr/local/lib/python3.9/dist-packages (from starfishX) (0.4.3)\n",
            "Requirement already satisfied: ffn in /usr/local/lib/python3.9/dist-packages (from starfishX) (0.3.6)\n",
            "Requirement already satisfied: urllib3 in /usr/local/lib/python3.9/dist-packages (from starfishX) (1.26.15)\n",
            "Requirement already satisfied: seaborn in /usr/local/lib/python3.9/dist-packages (from starfishX) (0.12.2)\n",
            "Requirement already satisfied: pyqt5 in /usr/local/lib/python3.9/dist-packages (from starfishX) (5.15.9)\n",
            "Requirement already satisfied: requests in /usr/local/lib/python3.9/dist-packages (from starfishX) (2.25.1)\n",
            "Requirement already satisfied: tqdm in /usr/local/lib/python3.9/dist-packages (from starfishX) (4.65.0)\n",
            "Requirement already satisfied: sklearn in /usr/local/lib/python3.9/dist-packages (from starfishX) (0.0.post1)\n",
            "Requirement already satisfied: selenium in /usr/local/lib/python3.9/dist-packages (from starfishX) (4.8.2)\n",
            "Requirement already satisfied: scipy in /usr/local/lib/python3.9/dist-packages (from starfishX) (1.10.1)\n",
            "Requirement already satisfied: pythainlp in /usr/local/lib/python3.9/dist-packages (from starfishX) (3.1.1)\n",
            "Requirement already satisfied: beautifulsoup4 in /usr/local/lib/python3.9/dist-packages (from starfishX) (4.9.3)\n",
            "Requirement already satisfied: html5lib in /usr/local/lib/python3.9/dist-packages (from starfishX) (1.0.1)\n",
            "Requirement already satisfied: soupsieve>1.2 in /usr/local/lib/python3.9/dist-packages (from beautifulsoup4->starfishX) (2.4)\n",
            "Requirement already satisfied: scikit-learn>=0.15 in /usr/local/lib/python3.9/dist-packages (from ffn->starfishX) (1.2.2)\n",
            "Requirement already satisfied: numpy>=1.5 in /usr/local/lib/python3.9/dist-packages (from ffn->starfishX) (1.22.4)\n",
            "Requirement already satisfied: decorator>=4 in /usr/local/lib/python3.9/dist-packages (from ffn->starfishX) (4.4.2)\n",
            "Requirement already satisfied: pandas-datareader>=0.2 in /usr/local/lib/python3.9/dist-packages (from ffn->starfishX) (0.10.0)\n",
            "Requirement already satisfied: matplotlib>=1 in /usr/local/lib/python3.9/dist-packages (from ffn->starfishX) (3.7.1)\n",
            "Requirement already satisfied: tabulate>=0.7.5 in /usr/local/lib/python3.9/dist-packages (from ffn->starfishX) (0.8.10)\n",
            "Requirement already satisfied: future>=0.15 in /usr/local/lib/python3.9/dist-packages (from ffn->starfishX) (0.16.0)\n",
            "Requirement already satisfied: python-dateutil>=2.8.1 in /usr/local/lib/python3.9/dist-packages (from pandas->starfishX) (2.8.2)\n",
            "Requirement already satisfied: pytz>=2020.1 in /usr/local/lib/python3.9/dist-packages (from pandas->starfishX) (2022.7.1)\n",
            "Requirement already satisfied: six>=1.9 in /usr/local/lib/python3.9/dist-packages (from html5lib->starfishX) (1.15.0)\n",
            "Requirement already satisfied: webencodings in /usr/local/lib/python3.9/dist-packages (from html5lib->starfishX) (0.5.1)\n",
            "Requirement already satisfied: PyQt5-sip<13,>=12.11 in /usr/local/lib/python3.9/dist-packages (from pyqt5->starfishX) (12.11.1)\n",
            "Requirement already satisfied: PyQt5-Qt5>=5.15.2 in /usr/local/lib/python3.9/dist-packages (from pyqt5->starfishX) (5.15.2)\n",
            "Requirement already satisfied: idna<3,>=2.5 in /usr/local/lib/python3.9/dist-packages (from requests->starfishX) (2.10)\n",
            "Requirement already satisfied: chardet<5,>=3.0.2 in /usr/local/lib/python3.9/dist-packages (from requests->starfishX) (4.0.0)\n",
            "Requirement already satisfied: certifi>=2017.4.17 in /usr/local/lib/python3.9/dist-packages (from requests->starfishX) (2022.12.7)\n",
            "Requirement already satisfied: trio~=0.17 in /usr/local/lib/python3.9/dist-packages (from selenium->starfishX) (0.22.0)\n",
            "Requirement already satisfied: trio-websocket~=0.9 in /usr/local/lib/python3.9/dist-packages (from selenium->starfishX) (0.10.0)\n",
            "Requirement already satisfied: pyparsing>=2.3.1 in /usr/local/lib/python3.9/dist-packages (from matplotlib>=1->ffn->starfishX) (3.0.9)\n",
            "Requirement already satisfied: packaging>=20.0 in /usr/local/lib/python3.9/dist-packages (from matplotlib>=1->ffn->starfishX) (23.0)\n",
            "Requirement already satisfied: kiwisolver>=1.0.1 in /usr/local/lib/python3.9/dist-packages (from matplotlib>=1->ffn->starfishX) (1.4.4)\n",
            "Requirement already satisfied: importlib-resources>=3.2.0 in /usr/local/lib/python3.9/dist-packages (from matplotlib>=1->ffn->starfishX) (5.12.0)\n",
            "Requirement already satisfied: contourpy>=1.0.1 in /usr/local/lib/python3.9/dist-packages (from matplotlib>=1->ffn->starfishX) (1.0.7)\n",
            "Requirement already satisfied: fonttools>=4.22.0 in /usr/local/lib/python3.9/dist-packages (from matplotlib>=1->ffn->starfishX) (4.39.0)\n",
            "Requirement already satisfied: cycler>=0.10 in /usr/local/lib/python3.9/dist-packages (from matplotlib>=1->ffn->starfishX) (0.11.0)\n",
            "Requirement already satisfied: pillow>=6.2.0 in /usr/local/lib/python3.9/dist-packages (from matplotlib>=1->ffn->starfishX) (8.4.0)\n",
            "Requirement already satisfied: lxml in /usr/local/lib/python3.9/dist-packages (from pandas-datareader>=0.2->ffn->starfishX) (4.9.2)\n",
            "Requirement already satisfied: threadpoolctl>=2.0.0 in /usr/local/lib/python3.9/dist-packages (from scikit-learn>=0.15->ffn->starfishX) (3.1.0)\n",
            "Requirement already satisfied: joblib>=1.1.1 in /usr/local/lib/python3.9/dist-packages (from scikit-learn>=0.15->ffn->starfishX) (1.1.1)\n",
            "Requirement already satisfied: exceptiongroup>=1.0.0rc9 in /usr/local/lib/python3.9/dist-packages (from trio~=0.17->selenium->starfishX) (1.1.1)\n",
            "Requirement already satisfied: sniffio in /usr/local/lib/python3.9/dist-packages (from trio~=0.17->selenium->starfishX) (1.3.0)\n",
            "Requirement already satisfied: attrs>=19.2.0 in /usr/local/lib/python3.9/dist-packages (from trio~=0.17->selenium->starfishX) (22.2.0)\n",
            "Requirement already satisfied: sortedcontainers in /usr/local/lib/python3.9/dist-packages (from trio~=0.17->selenium->starfishX) (2.4.0)\n",
            "Requirement already satisfied: async-generator>=1.9 in /usr/local/lib/python3.9/dist-packages (from trio~=0.17->selenium->starfishX) (1.10)\n",
            "Requirement already satisfied: outcome in /usr/local/lib/python3.9/dist-packages (from trio~=0.17->selenium->starfishX) (1.2.0)\n",
            "Requirement already satisfied: wsproto>=0.14 in /usr/local/lib/python3.9/dist-packages (from trio-websocket~=0.9->selenium->starfishX) (1.2.0)\n",
            "Requirement already satisfied: PySocks!=1.5.7,<2.0,>=1.5.6 in /usr/local/lib/python3.9/dist-packages (from urllib3->starfishX) (1.7.1)\n",
            "Requirement already satisfied: zipp>=3.1.0 in /usr/local/lib/python3.9/dist-packages (from importlib-resources>=3.2.0->matplotlib>=1->ffn->starfishX) (3.15.0)\n",
            "Requirement already satisfied: h11<1,>=0.9.0 in /usr/local/lib/python3.9/dist-packages (from wsproto>=0.14->trio-websocket~=0.9->selenium->starfishX) (0.14.0)\n"
          ]
        }
      ]
    },
    {
      "cell_type": "code",
      "source": [
        "# Import the installed package\n",
        "import starfishX as sx"
      ],
      "metadata": {
        "id": "GnpEzm1Pu-wE"
      },
      "execution_count": null,
      "outputs": []
    },
    {
      "cell_type": "code",
      "metadata": {
        "id": "th2meowVIRw2"
      },
      "source": [
        "pd.set_option('display.max_columns', 500)"
      ],
      "execution_count": null,
      "outputs": []
    },
    {
      "cell_type": "markdown",
      "metadata": {
        "id": "mfnniiPWaHLf"
      },
      "source": [
        "# Work flow\n",
        "1. Get data\n",
        "2. Cleansing & transformation:\n",
        "    \n",
        "    2.1. extract feature and label\n",
        "\n",
        "    2.2. one hot\n",
        "\n",
        "    2.3. train-test split\n",
        "\n",
        "3. Prediction model\n",
        "4. Visualize\n",
        "5. Feature engineer\n",
        "6. Setup pipeline"
      ]
    },
    {
      "cell_type": "markdown",
      "metadata": {
        "id": "xhGN8fclb24h"
      },
      "source": [
        "## 1. Get data\n"
      ]
    },
    {
      "cell_type": "markdown",
      "metadata": {
        "id": "_ApMSScLAhO1"
      },
      "source": [
        "### ใช้ฟังก์ชั่น ```getFinanceRatio()``` เพื่อดึงข้อมูลทางการเงินของหุ้นที่สนใจ\n",
        "\n",
        "ถ้าใส่หุ้นตัวเดียวจะได้สัดส่วนทางการเงินย้อนหลัง 4 ช่วงเวลา ถ้าใส่ list ของรายชื่อหุ้น จะได้สัดส่วนทางการเงินล่าสุดของหุ้นที่อยู่ใน list"
      ]
    },
    {
      "cell_type": "code",
      "metadata": {
        "id": "zGBEIMlu7zUw"
      },
      "source": [
        "# Create get_stock function to pull stock data\n",
        "def get_stock(stock, startdate,end_date):\n",
        "\n",
        "  df = sx.loadHistData_v2(symbol=stock, start=startdate , end=end_date)\n",
        "\n",
        "  return df"
      ],
      "execution_count": null,
      "outputs": []
    },
    {
      "cell_type": "code",
      "metadata": {
        "id": "0ZuZrPxa76xw",
        "colab": {
          "base_uri": "https://localhost:8080/",
          "height": 227
        },
        "outputId": "04e58def-48ae-44e7-8877-40e1d53f1949"
      },
      "source": [
        "stock_symbol = 'AMZN'\n",
        "start_date = '2016-01-01'\n",
        "end_date = '2016-01-01'\n",
        "df = get_stock(stock_symbol,start_date,end_date)\n",
        "df"
      ],
      "execution_count": null,
      "outputs": [
        {
          "output_type": "error",
          "ename": "TypeError",
          "evalue": "ignored",
          "traceback": [
            "\u001b[0;31m---------------------------------------------------------------------------\u001b[0m",
            "\u001b[0;31mTypeError\u001b[0m                                 Traceback (most recent call last)",
            "\u001b[0;32m<ipython-input-24-0cfdbf638491>\u001b[0m in \u001b[0;36m<module>\u001b[0;34m\u001b[0m\n\u001b[1;32m      2\u001b[0m \u001b[0mstart_date\u001b[0m \u001b[0;34m=\u001b[0m \u001b[0;34m'2016-01-01'\u001b[0m\u001b[0;34m\u001b[0m\u001b[0;34m\u001b[0m\u001b[0m\n\u001b[1;32m      3\u001b[0m \u001b[0mend_date\u001b[0m \u001b[0;34m=\u001b[0m \u001b[0;34m'2016-01-01'\u001b[0m\u001b[0;34m\u001b[0m\u001b[0;34m\u001b[0m\u001b[0m\n\u001b[0;32m----> 4\u001b[0;31m \u001b[0mdf\u001b[0m \u001b[0;34m=\u001b[0m \u001b[0mget_stock\u001b[0m\u001b[0;34m(\u001b[0m\u001b[0mstock_symbol\u001b[0m\u001b[0;34m,\u001b[0m\u001b[0mstart_date\u001b[0m\u001b[0;34m,\u001b[0m\u001b[0mend_date\u001b[0m\u001b[0;34m)\u001b[0m\u001b[0;34m\u001b[0m\u001b[0;34m\u001b[0m\u001b[0m\n\u001b[0m\u001b[1;32m      5\u001b[0m \u001b[0mdf\u001b[0m\u001b[0;34m\u001b[0m\u001b[0;34m\u001b[0m\u001b[0m\n",
            "\u001b[0;31mTypeError\u001b[0m: get_stock() takes 2 positional arguments but 3 were given"
          ]
        }
      ]
    },
    {
      "cell_type": "code",
      "metadata": {
        "id": "tFmrJWc59fsJ",
        "colab": {
          "base_uri": "https://localhost:8080/",
          "height": 190
        },
        "outputId": "32aba2e8-a9e4-45e4-e80e-5388efa0f107"
      },
      "source": [
        "# Display dataframe information\n",
        "df.info()"
      ],
      "execution_count": null,
      "outputs": [
        {
          "output_type": "error",
          "ename": "NameError",
          "evalue": "ignored",
          "traceback": [
            "\u001b[0;31m---------------------------------------------------------------------------\u001b[0m",
            "\u001b[0;31mNameError\u001b[0m                                 Traceback (most recent call last)",
            "\u001b[0;32m<ipython-input-14-4ac54efad4a6>\u001b[0m in \u001b[0;36m<module>\u001b[0;34m\u001b[0m\n\u001b[1;32m      1\u001b[0m \u001b[0;31m# Display dataframe information\u001b[0m\u001b[0;34m\u001b[0m\u001b[0;34m\u001b[0m\u001b[0m\n\u001b[0;32m----> 2\u001b[0;31m \u001b[0mdf\u001b[0m\u001b[0;34m.\u001b[0m\u001b[0minfo\u001b[0m\u001b[0;34m(\u001b[0m\u001b[0;34m)\u001b[0m\u001b[0;34m\u001b[0m\u001b[0;34m\u001b[0m\u001b[0m\n\u001b[0m",
            "\u001b[0;31mNameError\u001b[0m: name 'df' is not defined"
          ]
        }
      ]
    },
    {
      "cell_type": "code",
      "metadata": {
        "id": "LK-K-6G-9iQ1"
      },
      "source": [
        "# Display stock price statistic information\n",
        "df.describe()"
      ],
      "execution_count": null,
      "outputs": []
    },
    {
      "cell_type": "code",
      "metadata": {
        "id": "2AGRAGFJ78Dt"
      },
      "source": [
        "# A quick look at stock price\n",
        "df.CLOSE.plot(figsize=(15,5))\n",
        "plt.title('Symbol: {}'.format(stock_symbol))\n",
        "plt.grid()\n",
        "plt.legend();"
      ],
      "execution_count": null,
      "outputs": []
    },
    {
      "cell_type": "markdown",
      "metadata": {
        "id": "zBLncDBIcm3D"
      },
      "source": [
        "## 2. Cleansing & transformation"
      ]
    },
    {
      "cell_type": "markdown",
      "metadata": {
        "id": "Zj0iajNmycOv"
      },
      "source": [
        "### 2.1. Get feature and target dataframe"
      ]
    },
    {
      "cell_type": "code",
      "metadata": {
        "id": "54O2DsGnIRxg"
      },
      "source": [
        "df.head()"
      ],
      "execution_count": null,
      "outputs": []
    },
    {
      "cell_type": "code",
      "metadata": {
        "id": "iYEZ4rdUIRxn"
      },
      "source": [
        "# Create get_X_y function to get dependent (y) and independent (X) variables\n",
        "def get_df(dataframe):\n",
        "\n",
        "  # Extract time series variable\n",
        "  df = dataframe.reset_index()[['Date']]\n",
        "  df['Year'] = [df.iloc[i, 0].year for i in range(len(df))]\n",
        "  df['Month'] = [df.iloc[i, 0].month for i in range(len(df))]\n",
        "  df['Day'] = [df.iloc[i, 0].day for i in range(len(df))]\n",
        "  df['EnglishDay'] = df.Date.dt.strftime('%a')\n",
        "\n",
        "  # Set categorical variable\n",
        "  df = df.astype({'Month':'category',\n",
        "                'Day':'category',\n",
        "                'EnglishDay':'category'}).set_index('Date')\n",
        "\n",
        "  # Get OHLC\n",
        "  df = df.merge(dataframe, left_index=True, right_index=True)\n",
        "  df['ema_5'] = df['OPEN'].ewm(span=5, adjust=False).mean()\n",
        "  df['ema_10'] = df['OPEN'].ewm(span=10, adjust=False).mean()\n",
        "  df['BS_diff'] = (df['ema_5'] - df['ema_10']).apply(lambda x: 'Buy' if x>0 else 'Sell').astype('category')\n",
        "\n",
        "\n",
        "  return df"
      ],
      "execution_count": null,
      "outputs": []
    },
    {
      "cell_type": "code",
      "metadata": {
        "id": "TunjaxffIRxt"
      },
      "source": [
        "df = get_df(df)"
      ],
      "execution_count": null,
      "outputs": []
    },
    {
      "cell_type": "code",
      "metadata": {
        "id": "VnTz20ltIRxy"
      },
      "source": [
        "df.head()"
      ],
      "execution_count": null,
      "outputs": []
    },
    {
      "cell_type": "markdown",
      "metadata": {
        "id": "EGc7G5mN3YBu"
      },
      "source": [
        "### 2.2. Get one-hot encoder"
      ]
    },
    {
      "cell_type": "code",
      "metadata": {
        "id": "ML4OrrhD3W0a"
      },
      "source": [
        "# Create one_hot_encoder function\n",
        "def one_hot_encoder(dataframe):\n",
        "\n",
        "  # Select category columns\n",
        "  cat_df = dataframe.select_dtypes(include=['category']).columns.to_list()\n",
        "\n",
        "  # Convert to one-hot dataframe\n",
        "  one_hot_df = pd.get_dummies(dataframe, columns=cat_df)\n",
        "\n",
        "  return one_hot_df"
      ],
      "execution_count": null,
      "outputs": []
    },
    {
      "cell_type": "code",
      "metadata": {
        "id": "xqD1XggQ5QKH"
      },
      "source": [
        "X_dummie = one_hot_encoder(df)\n",
        "X_dummie"
      ],
      "execution_count": null,
      "outputs": []
    },
    {
      "cell_type": "code",
      "metadata": {
        "id": "6Ls62UzIIRx-"
      },
      "source": [
        "X_dummie.info()"
      ],
      "execution_count": null,
      "outputs": []
    },
    {
      "cell_type": "code",
      "metadata": {
        "id": "E_49_wnqyjc7"
      },
      "source": [
        "# Create get_X_y function to get dependent (y) and independent (X) variables\n",
        "def get_X_y(dataframe):\n",
        "\n",
        "  # Extract time series variable\n",
        "  X = dataframe.copy()\n",
        "\n",
        "  # Extract dependent variable\n",
        "  y = dataframe[['OPEN']].copy()\n",
        "\n",
        "  return X, y"
      ],
      "execution_count": null,
      "outputs": []
    },
    {
      "cell_type": "code",
      "metadata": {
        "id": "2TSy_N6x0WCR",
        "scrolled": true
      },
      "source": [
        "# Test get_X_y function\n",
        "X, y = get_X_y(X_dummie)\n",
        "\n",
        "# Display 10 rows of X\n",
        "X.head()"
      ],
      "execution_count": null,
      "outputs": []
    },
    {
      "cell_type": "code",
      "metadata": {
        "id": "J4K65XIPIRyK"
      },
      "source": [
        "# Create get_X_y function to get dependent (y) and independent (X) variables\n",
        "def get_X2(dataframe):\n",
        "\n",
        "  X2 = dataframe.loc[:, ~dataframe.columns.str.startswith('PV')]\n",
        "  X2 = X2.iloc[-1:,:]\n",
        "  X2.columns = ['PV' + str(col) for col in X2.columns]\n",
        "\n",
        "\n",
        "  return X2"
      ],
      "execution_count": null,
      "outputs": []
    },
    {
      "cell_type": "markdown",
      "metadata": {
        "id": "aud79jhZt3XI"
      },
      "source": [
        "### 2.3. Split train and test dataframe"
      ]
    },
    {
      "cell_type": "code",
      "metadata": {
        "id": "LoeeApPytjKm"
      },
      "source": [
        "# Create stock_train_test_split function\n",
        "def stock_train_test_split(dataframe, y, trainsize=0.8):\n",
        "\n",
        "  import math\n",
        "\n",
        "  train_ratio = trainsize\n",
        "  train_size = math.ceil(len(dataframe) * train_ratio)\n",
        "\n",
        "  # Get train dataframe\n",
        "  X_train = dataframe.iloc[:train_size, :]\n",
        "  y_train = y.iloc[:train_size, :]\n",
        "\n",
        "  # Get train dataframe\n",
        "  # X_test = dataframe.iloc[train_size:, :]\n",
        "  X_test = dataframe.copy()\n",
        "  y_test = y.iloc[train_size:, :]\n",
        "\n",
        "  # Drop label from independent variable\n",
        "  col_drop = ['OPEN', 'HIGH', 'LOW', 'CLOSE', 'VOLUME']\n",
        "  X_train = X_train.drop(col_drop, axis=1)\n",
        "  X_test = X_test.drop(col_drop, axis=1)\n",
        "\n",
        "\n",
        "\n",
        "  return X_train, X_test, y_train, y_test"
      ],
      "execution_count": null,
      "outputs": []
    },
    {
      "cell_type": "code",
      "metadata": {
        "id": "Hrj9xlOvwAOs"
      },
      "source": [
        "# Test stock_train_tes_split function\n",
        "trainsize = 0.8\n",
        "X_train, X_test, y_train, y_test = stock_train_test_split(X_dummie, y, trainsize=trainsize)\n",
        "X_train = X_train.drop('Year', axis=1)\n",
        "X_test = X_test.drop('Year', axis=1)"
      ],
      "execution_count": null,
      "outputs": []
    },
    {
      "cell_type": "code",
      "metadata": {
        "id": "FYfMrRTJIRyW"
      },
      "source": [
        "X_train"
      ],
      "execution_count": null,
      "outputs": []
    },
    {
      "cell_type": "code",
      "metadata": {
        "id": "OHllybRgwOV2"
      },
      "source": [
        "# Display 10 rows of X_train\n",
        "# len(X_train)\n",
        "display(len(X_train))\n",
        "X_train.head()"
      ],
      "execution_count": null,
      "outputs": []
    },
    {
      "cell_type": "code",
      "metadata": {
        "id": "DugKIDhbRrl0"
      },
      "source": [
        "X_train.tail()"
      ],
      "execution_count": null,
      "outputs": []
    },
    {
      "cell_type": "code",
      "metadata": {
        "id": "4Ra1hZkVwThN"
      },
      "source": [
        "# Display 10 rows of X_test\n",
        "display(len(X_test))\n",
        "X_test.head()"
      ],
      "execution_count": null,
      "outputs": []
    },
    {
      "cell_type": "code",
      "metadata": {
        "id": "w8JHrCEF8uLD"
      },
      "source": [
        "# Display 10 rows of y_train\n",
        "y_train.tail()"
      ],
      "execution_count": null,
      "outputs": []
    },
    {
      "cell_type": "code",
      "metadata": {
        "id": "gqRQ06y58xJH"
      },
      "source": [
        "# Display 10 rows of y_test\n",
        "y_test.head()"
      ],
      "execution_count": null,
      "outputs": []
    },
    {
      "cell_type": "markdown",
      "metadata": {
        "id": "zlZmDUZPCuUV"
      },
      "source": [
        "## 3. Prediction model"
      ]
    },
    {
      "cell_type": "markdown",
      "metadata": {
        "id": "pRdAtwK4k28B"
      },
      "source": [
        "### 3.1. Model"
      ]
    },
    {
      "cell_type": "code",
      "metadata": {
        "id": "uqupaHR5JPFA"
      },
      "source": [
        "# Create model_fit function for setting prediction model\n",
        "def model_fit(X_train, y_train):\n",
        "\n",
        "  # import sci-kit learn\n",
        "  from sklearn.linear_model import LinearRegression\n",
        "\n",
        "  # Model fitting with normalization\n",
        "  model = LinearRegression(normalize=True).fit(X_train, y_train)\n",
        "\n",
        "  return model"
      ],
      "execution_count": null,
      "outputs": []
    },
    {
      "cell_type": "code",
      "metadata": {
        "id": "7JhCIArAIRy3"
      },
      "source": [
        "# Train model with X_train and y_train\n",
        "model = model_fit(X_train, y_train)"
      ],
      "execution_count": null,
      "outputs": []
    },
    {
      "cell_type": "code",
      "metadata": {
        "id": "fL_otg1VIRy6"
      },
      "source": [
        "# Test set prediction\n",
        "y_hat = model.predict(X_test)"
      ],
      "execution_count": null,
      "outputs": []
    },
    {
      "cell_type": "code",
      "metadata": {
        "id": "8RUjQB7RIRy9"
      },
      "source": [
        "y_hat[:10]"
      ],
      "execution_count": null,
      "outputs": []
    },
    {
      "cell_type": "code",
      "metadata": {
        "id": "RNNGkTRq3Rq4"
      },
      "source": [
        "y_train.head()"
      ],
      "execution_count": null,
      "outputs": []
    },
    {
      "cell_type": "markdown",
      "metadata": {
        "id": "43KTACvhky-l"
      },
      "source": [
        "### 3.2. Error"
      ]
    },
    {
      "cell_type": "code",
      "metadata": {
        "id": "rxs0YodqfFOA"
      },
      "source": [
        "def rmse(y_test, y_hat):\n",
        "  # Root mean squared error\n",
        "  from sklearn.metrics import mean_squared_error\n",
        "  from math import sqrt\n",
        "\n",
        "  y_hat_test = y_hat[-len(y_test):]\n",
        "  rms = sqrt(mean_squared_error(y_test, y_hat_test))\n",
        "  return rms"
      ],
      "execution_count": null,
      "outputs": []
    },
    {
      "cell_type": "code",
      "metadata": {
        "id": "XFpgWSQYIRzL"
      },
      "source": [
        "# rms for test dataframe\n",
        "rmse(y_test, y_hat)"
      ],
      "execution_count": null,
      "outputs": []
    },
    {
      "cell_type": "markdown",
      "metadata": {
        "id": "ubdqy98GGnxv"
      },
      "source": [
        "## 4. Visualization"
      ]
    },
    {
      "cell_type": "code",
      "metadata": {
        "id": "Nt_jQRpDGqPC"
      },
      "source": [
        "# Create visualize function to display result\n",
        "def visualize(X, y, y_hat, symbol, feat_eng=False):\n",
        "\n",
        "  # Set figure size\n",
        "  plt.figure(figsize=(10, 5))\n",
        "\n",
        "  # Plot actual price\n",
        "  plt.plot(X.index, y, label='Actual Price')\n",
        "\n",
        "  # Plot predicted price\n",
        "  plt.plot(X.index, y_hat, label='Predicted Price')\n",
        "\n",
        "  # Set title\n",
        "  plt.title('Stock price: {} [{}]'.format(symbol, feat_eng) )\n",
        "\n",
        "  # Set x-label\n",
        "  plt.xlabel('Period')\n",
        "\n",
        "  # Set y-label\n",
        "  plt.ylabel('Price [THB]')\n",
        "\n",
        "  # Plot grid\n",
        "  plt.grid()\n",
        "\n",
        "  # Display legend\n",
        "  plt.legend()\n",
        "\n",
        "  # Display graph\n",
        "  plt.show()"
      ],
      "execution_count": null,
      "outputs": []
    },
    {
      "cell_type": "code",
      "metadata": {
        "id": "LZp4twcfISDb"
      },
      "source": [
        "visualize(X, y, y_hat, stock_symbol)"
      ],
      "execution_count": null,
      "outputs": []
    },
    {
      "cell_type": "markdown",
      "metadata": {
        "id": "sHndSY-_sueQ"
      },
      "source": [
        "## 5. Feature engineer: Incorporate previous day price and volume features"
      ]
    },
    {
      "cell_type": "code",
      "metadata": {
        "id": "T5pR9Vqsq65o"
      },
      "source": [
        "import numpy as np\n",
        "# Create feature_engineer function to extract new features\n",
        "def feature_engineer(dataframe, feat_eng=False):\n",
        "\n",
        "  if feat_eng:\n",
        "    dataframe['PVMonth'] = dataframe[['Month']].shift(periods=6)\n",
        "    dataframe['PVDay'] = dataframe[['Day']].shift(periods=6)\n",
        "    dataframe['PVEnglishDay'] = dataframe[['EnglishDay']].shift(periods=6)\n",
        "    dataframe['PVOPEN'] = dataframe[['OPEN']].shift(periods=6, fill_value=0)\n",
        "    dataframe['PVHIHG'] = dataframe[['HIGH']].shift(periods=6, fill_value=0)\n",
        "    dataframe['PVLOW'] = dataframe[['LOW']].shift(periods=6, fill_value=0)\n",
        "    dataframe['PVCLOSE'] = dataframe[['CLOSE']].shift(periods=6, fill_value=0)\n",
        "    dataframe['PVVOLUME'] = dataframe[['VOLUME']].shift(periods=6, fill_value=0)\n",
        "    dataframe['PVema_5'] = dataframe[['ema_5']].shift(periods=6, fill_value=0)\n",
        "    dataframe['PVema_10'] = dataframe[['ema_10']].shift(periods=6, fill_value=0)\n",
        "    dataframe['PVBS_diff'] = dataframe[['BS_diff']].shift(periods=6)\n",
        "\n",
        "    dataframe = dataframe.iloc[10:,1:]\n",
        "    dataframe['PVMonth'] = dataframe['PVMonth'].astype('int')\n",
        "    dataframe['PVDay'] = dataframe['PVDay'].astype('int')\n",
        "\n",
        "    dataframe['PVEnglishDay'] = dataframe['PVEnglishDay'].astype('category')\n",
        "    dataframe['PVBS_diff'] = dataframe['PVBS_diff'].astype('category')\n",
        "    dataframe['PVMonth'] = dataframe['PVMonth'].astype('category')\n",
        "    dataframe['PVDay'] = dataframe['PVDay'].astype('category')\n",
        "    return dataframe"
      ],
      "execution_count": null,
      "outputs": []
    },
    {
      "cell_type": "code",
      "metadata": {
        "id": "dEa0oeLsIqLL"
      },
      "source": [
        "# Test our feature_engineer function\n",
        "X_engineered = feature_engineer(df, feat_eng=True)\n",
        "X_engineered"
      ],
      "execution_count": null,
      "outputs": []
    },
    {
      "cell_type": "code",
      "metadata": {
        "id": "mPaRkeweIRzi"
      },
      "source": [
        "X_engineered.info()"
      ],
      "execution_count": null,
      "outputs": []
    },
    {
      "cell_type": "markdown",
      "metadata": {
        "id": "aO9_Y7DKJzMm"
      },
      "source": [
        "## 6. Setup our pipeline"
      ]
    },
    {
      "cell_type": "code",
      "metadata": {
        "id": "l7sL8WhLKHTS"
      },
      "source": [
        "# Create main function to run pipeline\n",
        "def main(stock, startdate='2016-01-01', feat_eng=True):\n",
        "\n",
        "  # Get stock\n",
        "  df = get_stock(stock, startdate)\n",
        "  df = get_df(df)\n",
        "\n",
        "  # Get engineered features\n",
        "  X_engineered = feature_engineer(df, feat_eng=feat_eng)\n",
        "\n",
        "  # One-hot encoder\n",
        "  X_eng_dummie = one_hot_encoder(X_engineered)\n",
        "\n",
        "  X, y = get_X_y(X_eng_dummie)\n",
        "\n",
        "\n",
        "  # Train test splitting\n",
        "  X_train, X_test, y_train, y_test = stock_train_test_split(X,\n",
        "                                                            y,\n",
        "                                                            trainsize=0.8)\n",
        "\n",
        "  X_train = X_train.loc[:, X_train.columns.str.startswith('PV')]\n",
        "  X_test = X_test.loc[:, X_test.columns.str.startswith('PV')]\n",
        "\n",
        "  # Prediction model\n",
        "  model = model_fit(X_train, y_train)\n",
        "\n",
        "  # Prediction\n",
        "  y_hat = model.predict(X_test)\n",
        "\n",
        "# RMS\n",
        "  RMS = rmse(y_test, y_hat)\n",
        "  X2 = get_X2(X_eng_dummie)\n",
        "  y_pred = model.predict(X2)\n",
        "\n",
        "\n",
        "  return RMS, y_pred"
      ],
      "execution_count": null,
      "outputs": []
    },
    {
      "cell_type": "markdown",
      "metadata": {
        "id": "KmE_7--70fBA"
      },
      "source": [
        "## Test our pipeline"
      ]
    },
    {
      "cell_type": "code",
      "metadata": {
        "id": "ypX5AqvJJTlw"
      },
      "source": [
        "# Set all parameters\n",
        "stock_symbol = 'BANPU'\n",
        "#stock_symbol = ['BANPU', 'SCB', 'KBANK']\n",
        "start_date = '2015-01-01'\n",
        "feat_eng = True\n",
        "\n",
        "RMS, y_pred = main(stock=stock_symbol, startdate=start_date, feat_eng=feat_eng)\n",
        "print(RMS)\n",
        "print(y_pred)"
      ],
      "execution_count": null,
      "outputs": []
    },
    {
      "cell_type": "code",
      "metadata": {
        "id": "9o6WI0Q5IRz0"
      },
      "source": [
        "#List all stock result\n",
        "\n",
        "StockSearch = pd.DataFrame({'Stock': [], 'Price': [], 'PricePredict': [], 'RMS': []})\n",
        "StockSearch"
      ],
      "execution_count": null,
      "outputs": []
    },
    {
      "cell_type": "code",
      "metadata": {
        "id": "hYE5Vxp1IRz6"
      },
      "source": [
        "stock_symbol = ['PTT',\n",
        "'SCB',\n",
        "'SCC',\n",
        "'BTS',\n",
        "'M']\n",
        "\n",
        "for i in stock_symbol:\n",
        "    datasearch = sx.loadHistData(i, start='2020-09-11',OHLC=True)\n",
        "    datasearch = datasearch['CLOSE']\n",
        "    datasearch1 = i\n",
        "    # datasearch2 = datasearch.items()\n",
        "    datasearch2 =datasearch.iloc[-1]\n",
        "    RMS, y_pred = main(stock=i, startdate=start_date, feat_eng=feat_eng)\n",
        "    DataResult1 = y_pred\n",
        "    DataResult2 = RMS\n",
        "\n",
        "\n",
        "    StockSearch = StockSearch.append({'Stock': datasearch1, 'Price': datasearch2, 'PricePredict': DataResult1, 'RMS': DataResult2}, ignore_index=True)"
      ],
      "execution_count": null,
      "outputs": []
    },
    {
      "cell_type": "code",
      "metadata": {
        "id": "BOsc0IshIRz-"
      },
      "source": [
        "StockSearch"
      ],
      "execution_count": null,
      "outputs": []
    },
    {
      "cell_type": "markdown",
      "metadata": {
        "id": "YNGSRfjg9ABD"
      },
      "source": []
    },
    {
      "cell_type": "code",
      "metadata": {
        "id": "6yuFU5WOT0eW"
      },
      "source": [
        "StockSearch['diff'] = (StockSearch['PricePredict'].astype(float))-(StockSearch['Price'].astype(float))\n",
        "StockSearch['%Change'] = StockSearch['diff']/StockSearch['Price']\n",
        "StockConclusion = StockSearch.sort_values(by='%Change', ascending = False)\n",
        "StockConclusion"
      ],
      "execution_count": null,
      "outputs": []
    },
    {
      "cell_type": "markdown",
      "metadata": {
        "id": "TLiGQdZYaxK7"
      },
      "source": []
    },
    {
      "cell_type": "markdown",
      "metadata": {
        "id": "Ee5agklPXhHG"
      },
      "source": [
        "# Test Algorithm"
      ]
    },
    {
      "cell_type": "markdown",
      "metadata": {
        "id": "85WrD36vaw0b"
      },
      "source": []
    },
    {
      "cell_type": "code",
      "metadata": {
        "id": "wJZ-FGKgXlL2"
      },
      "source": [
        "%%capture\n",
        "!pip install pycaret==2.0"
      ],
      "execution_count": null,
      "outputs": []
    },
    {
      "cell_type": "code",
      "metadata": {
        "id": "_ZB31xjzXm9m"
      },
      "source": [
        "from pycaret.utils import enable_colab\n",
        "enable_colab()"
      ],
      "execution_count": null,
      "outputs": []
    },
    {
      "cell_type": "code",
      "metadata": {
        "id": "WqJ4dMuIXouF"
      },
      "source": [
        "# Create main function to run pipeline\n",
        "def get_Xytrain(stock, startdate='2016-01-01', feat_eng=True):\n",
        "\n",
        "  # Get stock\n",
        "  df = get_stock(stock, startdate)\n",
        "  df = get_df(df)\n",
        "\n",
        "  # Get engineered features\n",
        "  X_engineered = feature_engineer(df, feat_eng=feat_eng)\n",
        "\n",
        "  # One-hot encoder\n",
        "  X_eng_dummie = one_hot_encoder(X_engineered)\n",
        "\n",
        "  X, y = get_X_y(X_eng_dummie)\n",
        "\n",
        "  return X, y"
      ],
      "execution_count": null,
      "outputs": []
    },
    {
      "cell_type": "code",
      "metadata": {
        "id": "R3Bhbe83XrJ1"
      },
      "source": [
        "stock_symbol = 'BANPU'\n",
        "#stock_symbol = ['BANPU', 'SCB', 'KBANK']\n",
        "start_date = '2015-01-01'\n",
        "feat_eng = True\n",
        "\n",
        "X, y = get_Xytrain(stock=stock_symbol, startdate=start_date, feat_eng=feat_eng)"
      ],
      "execution_count": null,
      "outputs": []
    },
    {
      "cell_type": "code",
      "metadata": {
        "id": "4vIPr_9MXtrZ"
      },
      "source": [
        "data = X.merge(y, left_index=True, right_index=True)\n",
        "data['PVlabel'] = data['OPEN_x']\n",
        "data = data.loc[:, data.columns.str.startswith('PV')]\n",
        "data.head()"
      ],
      "execution_count": null,
      "outputs": []
    },
    {
      "cell_type": "code",
      "metadata": {
        "id": "BdzENf47Y1_t"
      },
      "source": [
        "from pycaret.regression import *\n",
        "exp_reg101 = setup(data = data, target = 'PVlabel', session_id=123)"
      ],
      "execution_count": null,
      "outputs": []
    },
    {
      "cell_type": "code",
      "metadata": {
        "id": "-xwoZ7MaY4rA"
      },
      "source": [
        "# ransac = random sample consensus\n",
        "best = compare_models()#blacklist = ['ransac'])"
      ],
      "execution_count": null,
      "outputs": []
    },
    {
      "cell_type": "code",
      "metadata": {
        "id": "oJyO94AYgjDh"
      },
      "source": [],
      "execution_count": null,
      "outputs": []
    },
    {
      "cell_type": "code",
      "metadata": {
        "id": "e5dcTa21gj0B"
      },
      "source": [
        "####ไว้รันหุ้น Set100\n",
        "StockSearch = pd.DataFrame({'Stock': [], 'Price': [], 'PricePredict': [], 'RMS': []})\n",
        "stock_symbol = [\n",
        "'AAV',\n",
        "'ADVANC',\n",
        "'AEONTS',\n",
        "'AMATA',\n",
        "'AOT',\n",
        "'AP',\n",
        "'AWC',\n",
        "'BANPU',\n",
        "'BBL',\n",
        "'BCH',\n",
        "'BCP',\n",
        "'BCPG',\n",
        "'BDMS',\n",
        "'BEC',\n",
        "'BEM',\n",
        "'BGRIM',\n",
        "'BH',\n",
        "'BJC',\n",
        "'BPP',\n",
        "'BTS',\n",
        "'CBG',\n",
        "'CENTEL',\n",
        "'CHG',\n",
        "'CK',\n",
        "'CKP',\n",
        "'COM7',\n",
        "'CPALL',\n",
        "'CPF',\n",
        "'CPN',\n",
        "'DOHOME',\n",
        "'DTAC',\n",
        "'EA',\n",
        "'EGCO',\n",
        "'EPG',\n",
        "'ERW',\n",
        "'ESSO',\n",
        "'GFPT',\n",
        "'GLOBAL',\n",
        "'GPSC',\n",
        "'GULF',\n",
        "'GUNKUL',\n",
        "'HANA',\n",
        "'HMPRO',\n",
        "'INTUCH',\n",
        "'IRPC',\n",
        "'IVL',\n",
        "'JAS',\n",
        "'KBANK',\n",
        "'KCE',\n",
        "'KKP',\n",
        "'KTB',\n",
        "'KTC',\n",
        "'LH',\n",
        "'MAJOR',\n",
        "'MEGA',\n",
        "'MINT',\n",
        "'ORI',\n",
        "'OSP',\n",
        "'PLANB',\n",
        "'PRM',\n",
        "'PSH',\n",
        "'PTTEP',\n",
        "'PTTGC',\n",
        "'QH',\n",
        "'RATCH',\n",
        "'RBF',\n",
        "'RS',\n",
        "'SAWAD',\n",
        "'SCB',\n",
        "'SCC',\n",
        "'SGP',\n",
        "'SIRI',\n",
        "'SPALI',\n",
        "'SPRC',\n",
        "'STA',\n",
        "'STEC',\n",
        "'SUPER',\n",
        "'TASCO',\n",
        "'TCAP',\n",
        "'TISCO',\n",
        "'TKN',\n",
        "'TMB',\n",
        "'TOP',\n",
        "'TQM',\n",
        "'TRUE',\n",
        "'TTW',\n",
        "'TU',\n",
        "'TVO',\n",
        "'VGI',\n",
        "'WHA',\n",
        "'WHAUP'\n",
        "]\n",
        "\n",
        "\n",
        "for i in stock_symbol:\n",
        "    datasearch = sx.loadHistData(i, start='2020-09-11',OHLC=True)\n",
        "    datasearch = datasearch['CLOSE']\n",
        "    datasearch1 = i\n",
        "    # datasearch2 = datasearch.items()\n",
        "    datasearch2 =datasearch.iloc[-1]\n",
        "    RMS, y_pred = main(stock=i, startdate=start_date, feat_eng=feat_eng)\n",
        "    DataResult1 = y_pred\n",
        "    DataResult2 = RMS\n",
        "\n",
        "\n",
        "    StockSearch = StockSearch.append({'Stock': datasearch1, 'Price': datasearch2, 'PricePredict': DataResult1, 'RMS': DataResult2}, ignore_index=True)\n"
      ],
      "execution_count": null,
      "outputs": []
    },
    {
      "cell_type": "code",
      "metadata": {
        "id": "NPSfJDe39r8T"
      },
      "source": [
        "StockSearch['diff'] = (StockSearch['PricePredict'].astype(float))-(StockSearch['Price'].astype(float))\n",
        "StockSearch['%Change'] = StockSearch['diff']/StockSearch['Price']\n",
        "StockConclusion = StockSearch.sort_values(by='%Change', ascending = False)\n",
        "StockConclusion"
      ],
      "execution_count": null,
      "outputs": []
    },
    {
      "cell_type": "code",
      "metadata": {
        "id": "JF7_xuhr9Wr6"
      },
      "source": [
        "StockConclusion.head(10)"
      ],
      "execution_count": null,
      "outputs": []
    }
  ]
}